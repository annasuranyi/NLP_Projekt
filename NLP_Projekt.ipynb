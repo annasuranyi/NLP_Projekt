{
  "nbformat": 4,
  "nbformat_minor": 0,
  "metadata": {
    "colab": {
      "provenance": [],
      "authorship_tag": "ABX9TyP0jJg/HC0Xb2VISF1F6l28",
      "include_colab_link": true
    },
    "kernelspec": {
      "name": "python3",
      "display_name": "Python 3"
    },
    "language_info": {
      "name": "python"
    }
  },
  "cells": [
    {
      "cell_type": "markdown",
      "metadata": {
        "id": "view-in-github",
        "colab_type": "text"
      },
      "source": [
        "<a href=\"https://colab.research.google.com/github/annasuranyi/NLP_Projekt/blob/main/NLP_Projekt.ipynb\" target=\"_parent\"><img src=\"https://colab.research.google.com/assets/colab-badge.svg\" alt=\"Open In Colab\"/></a>"
      ]
    },
    {
      "cell_type": "markdown",
      "source": [
        "# **Szöveg alapú ajánlórendszer**"
      ],
      "metadata": {
        "id": "Ifx_SSwEK1Tk"
      }
    },
    {
      "cell_type": "markdown",
      "source": [
        "1. Könyvtárak telepítése"
      ],
      "metadata": {
        "id": "F1jHvvIALF8b"
      }
    },
    {
      "cell_type": "code",
      "source": [
        "pip install requests pandas scikit-learn"
      ],
      "metadata": {
        "colab": {
          "base_uri": "https://localhost:8080/"
        },
        "id": "0JbfkP1oKz01",
        "outputId": "6e36b179-68b6-4ee2-a315-c44646eaf86f"
      },
      "execution_count": 1,
      "outputs": [
        {
          "output_type": "stream",
          "name": "stdout",
          "text": [
            "Requirement already satisfied: requests in /usr/local/lib/python3.10/dist-packages (2.32.3)\n",
            "Requirement already satisfied: pandas in /usr/local/lib/python3.10/dist-packages (2.2.2)\n",
            "Requirement already satisfied: scikit-learn in /usr/local/lib/python3.10/dist-packages (1.6.0)\n",
            "Requirement already satisfied: charset-normalizer<4,>=2 in /usr/local/lib/python3.10/dist-packages (from requests) (3.4.0)\n",
            "Requirement already satisfied: idna<4,>=2.5 in /usr/local/lib/python3.10/dist-packages (from requests) (3.10)\n",
            "Requirement already satisfied: urllib3<3,>=1.21.1 in /usr/local/lib/python3.10/dist-packages (from requests) (2.2.3)\n",
            "Requirement already satisfied: certifi>=2017.4.17 in /usr/local/lib/python3.10/dist-packages (from requests) (2024.12.14)\n",
            "Requirement already satisfied: numpy>=1.22.4 in /usr/local/lib/python3.10/dist-packages (from pandas) (1.26.4)\n",
            "Requirement already satisfied: python-dateutil>=2.8.2 in /usr/local/lib/python3.10/dist-packages (from pandas) (2.8.2)\n",
            "Requirement already satisfied: pytz>=2020.1 in /usr/local/lib/python3.10/dist-packages (from pandas) (2024.2)\n",
            "Requirement already satisfied: tzdata>=2022.7 in /usr/local/lib/python3.10/dist-packages (from pandas) (2024.2)\n",
            "Requirement already satisfied: scipy>=1.6.0 in /usr/local/lib/python3.10/dist-packages (from scikit-learn) (1.13.1)\n",
            "Requirement already satisfied: joblib>=1.2.0 in /usr/local/lib/python3.10/dist-packages (from scikit-learn) (1.4.2)\n",
            "Requirement already satisfied: threadpoolctl>=3.1.0 in /usr/local/lib/python3.10/dist-packages (from scikit-learn) (3.5.0)\n",
            "Requirement already satisfied: six>=1.5 in /usr/local/lib/python3.10/dist-packages (from python-dateutil>=2.8.2->pandas) (1.17.0)\n"
          ]
        }
      ]
    },
    {
      "cell_type": "markdown",
      "source": [
        "2. Projekt kódja"
      ],
      "metadata": {
        "id": "g2ujr3S6Q4G3"
      }
    },
    {
      "cell_type": "markdown",
      "source": [
        "- Adatok létrehozása - TMDB API kulcs megadása"
      ],
      "metadata": {
        "id": "rIjbob15RipB"
      }
    },
    {
      "cell_type": "code",
      "source": [
        "import requests\n",
        "import pandas as pd\n",
        "from sklearn.feature_extraction.text import TfidfVectorizer\n",
        "from sklearn.metrics.pairwise import cosine_similarity\n",
        "\n",
        "API_KEY = \"6b5bdc65c4ca681df7bbe2158ba996ee\"  # Cseréld le a saját TMDB API kulcsodra\n",
        "BASE_URL = \"https://api.themoviedb.org/3\"\n",
        "\n",
        "def fetch_movies(api_key, num_movies=20):\n",
        "    \"\"\"\n",
        "    Lekéri a TMDB API-ból az aktuálisan népszerű filmeket.\n",
        "\n",
        "    Paraméterek:\n",
        "        api_key (str): A TMDB API kulcs.\n",
        "        num_movies (int): A lekérendő filmek száma (max. 20 per hívás).\n",
        "\n",
        "    Return:\n",
        "        DataFrame: A filmek címét, leírását és műfajait tartalmazó DataFrame.\n",
        "    \"\"\"\n",
        "    # Népszerű filmek lekérdezése\n",
        "    url = f\"{BASE_URL}/movie/popular\"\n",
        "    params = {\"api_key\": api_key, \"language\": \"en-US\", \"page\": 1}\n",
        "    response = requests.get(url, params=params)\n",
        "\n",
        "    if response.status_code != 200:\n",
        "        raise Exception(f\"API hiba: {response.status_code}, {response.text}\")\n",
        "\n",
        "    data = response.json()\n",
        "    movies = []\n",
        "\n",
        "    for movie in data[\"results\"][:num_movies]:\n",
        "        title = movie[\"title\"]\n",
        "        description = movie.get(\"overview\", \"Nincs leírás\")\n",
        "        genres = fetch_genres(movie[\"genre_ids\"], api_key)\n",
        "        movies.append({\"title\": title, \"description\": description, \"genres\": genres})\n",
        "\n",
        "    return pd.DataFrame(movies)\n",
        "\n",
        "def fetch_genres(genre_ids, api_key):\n",
        "    \"\"\"\n",
        "    Lekéri a műfajok nevét az azonosítók alapján.\n",
        "\n",
        "    Paraméterek:\n",
        "        genre_ids (list): A műfajok azonosítói.\n",
        "        api_key (str): A TMDB API kulcs.\n",
        "\n",
        "    Return:\n",
        "        str: A műfajok neve vesszővel elválasztva.\n",
        "    \"\"\"\n",
        "    # Műfajok listája (csak egyszer kellene letölteni, itt dinamikusan van megoldva)\n",
        "    genre_url = f\"{BASE_URL}/genre/movie/list\"\n",
        "    params = {\"api_key\": api_key, \"language\": \"en-US\"}\n",
        "    response = requests.get(genre_url, params=params)\n",
        "\n",
        "    if response.status_code != 200:\n",
        "        raise Exception(f\"API hiba a műfajok lekérdezésekor: {response.status_code}, {response.text}\")\n",
        "\n",
        "    genres_data = response.json()[\"genres\"]\n",
        "    genres_dict = {genre[\"id\"]: genre[\"name\"] for genre in genres_data}\n",
        "    return \", \".join([genres_dict[genre_id] for genre_id in genre_ids if genre_id in genres_dict])"
      ],
      "metadata": {
        "id": "tHm3qv_HRuLD"
      },
      "execution_count": 2,
      "outputs": []
    },
    {
      "cell_type": "markdown",
      "source": [
        "- Adatok letöltése"
      ],
      "metadata": {
        "id": "JhCNPalD57XL"
      }
    },
    {
      "cell_type": "code",
      "source": [
        "print(\"Adatok letöltése a TMDB API-ból...\")\n",
        "df = fetch_movies(API_KEY, num_movies=20)\n",
        "print(\"Sikeresen letöltött adatok:\")\n",
        "print(df.head())"
      ],
      "metadata": {
        "colab": {
          "base_uri": "https://localhost:8080/"
        },
        "id": "YCG9bt8q6B_d",
        "outputId": "7f970ca7-58b4-4972-b1b9-1061a9c63bfd"
      },
      "execution_count": 3,
      "outputs": [
        {
          "output_type": "stream",
          "name": "stdout",
          "text": [
            "Adatok letöltése a TMDB API-ból...\n",
            "Sikeresen letöltött adatok:\n",
            "                   title                                        description  \\\n",
            "0                Red One  After Santa Claus (codename: Red One) is kidna...   \n",
            "1  Venom: The Last Dance  Eddie and Venom are on the run. Hunted by both...   \n",
            "2                Moana 2  After receiving an unexpected call from her wa...   \n",
            "3              Elevation  A single father and two women venture from the...   \n",
            "4  Mufasa: The Lion King  Told in flashbacks, Mufasa is an orphaned cub,...   \n",
            "\n",
            "                                         genres  \n",
            "0                       Action, Fantasy, Comedy  \n",
            "1  Action, Science Fiction, Adventure, Thriller  \n",
            "2          Animation, Adventure, Family, Comedy  \n",
            "3             Action, Science Fiction, Thriller  \n",
            "4           Adventure, Family, Drama, Animation  \n"
          ]
        }
      ]
    },
    {
      "cell_type": "markdown",
      "source": [
        "- TF-IDF vektorok létrehozása - A TF-IDF vektorok létrehozásához a TfidfVectorizer-t használjuk."
      ],
      "metadata": {
        "id": "xOJ9Rl24RufY"
      }
    },
    {
      "cell_type": "code",
      "source": [
        "vectorizer = TfidfVectorizer(stop_words='english')\n",
        "tfidf_matrix = vectorizer.fit_transform(df['description'])"
      ],
      "metadata": {
        "id": "ceFAumLERxGu"
      },
      "execution_count": 4,
      "outputs": []
    },
    {
      "cell_type": "markdown",
      "source": [
        "- Koszinusz hasonlóság kiszámítása - A koszinusz hasonlóság mátrixot a cosine_similarity függvénnyel számoljuk ki."
      ],
      "metadata": {
        "id": "ile3Dc7uRxW0"
      }
    },
    {
      "cell_type": "code",
      "source": [
        "# A koszinusz hasonlóság mátrix számítása a TF-IDF vektorok alapján\n",
        "cosine_sim = cosine_similarity(tfidf_matrix, tfidf_matrix)"
      ],
      "metadata": {
        "id": "acG2NVmpR1W7"
      },
      "execution_count": 5,
      "outputs": []
    },
    {
      "cell_type": "markdown",
      "source": [
        "- Ajánló funkció - Egy egyszerű ajánló funkció (recommend_movies) kiszámítja a legjobban hasonlító filmeket."
      ],
      "metadata": {
        "id": "UzsdvUpzR1h5"
      }
    },
    {
      "cell_type": "code",
      "source": [
        "def recommend_movies(title, cosine_sim=cosine_sim):\n",
        "    \"\"\"\n",
        "    Visszaadja a megadott filmhez legjobban hasonlító filmek címét.\n",
        "\n",
        "    Paraméterek:\n",
        "        title (str): A film címe, amelyhez hasonlót keresünk.\n",
        "        cosine_sim (ndarray): A koszinusz hasonlóság mátrix.\n",
        "\n",
        "    Return:\n",
        "        list: Az 5 legjobban hasonlító film címe.\n",
        "    \"\"\"\n",
        "    if title not in df['title'].values:\n",
        "        return [\"Nincs ilyen film az adatbázisban.\"]\n",
        "\n",
        "    # A film indexének megkeresése a DataFrame-ben\n",
        "    idx = df[df['title'] == title].index[0]\n",
        "\n",
        "    # Hasonlósági pontszámok lekérése a kiválasztott filmhez\n",
        "    sim_scores = list(enumerate(cosine_sim[idx]))\n",
        "\n",
        "    # Rendezés a hasonlóság szerint, csökkenő sorrendben\n",
        "    sim_scores = sorted(sim_scores, key=lambda x: x[1], reverse=True)\n",
        "\n",
        "    # A top 5 legjobban hasonlító film indexei (kivéve saját maga)\n",
        "    sim_scores = sim_scores[1:6]\n",
        "    movie_indices = [i[0] for i in sim_scores]\n",
        "\n",
        "    # Visszatérünk a filmek címeivel\n",
        "    return df['title'].iloc[movie_indices]"
      ],
      "metadata": {
        "id": "yJhfUq60R321"
      },
      "execution_count": 6,
      "outputs": []
    },
    {
      "cell_type": "markdown",
      "source": [
        "- Felhasználói interakció - A felhasználó megadhat egy filmcímet, és a program visszaadja az 5 leginkább hasonló filmet."
      ],
      "metadata": {
        "id": "BomnDf2TR4Cg"
      }
    },
    {
      "cell_type": "code",
      "source": [
        "if __name__ == \"__main__\":\n",
        "    print(\"\\nÜdvözöllek a film ajánló rendszerben!\")\n",
        "    print(\"Írd be egy film címét, és ajánlok hasonló filmeket.\")\n",
        "    print(\"Elérhető filmek:\")\n",
        "    print(df['title'].tolist())\n",
        "    print(\"\\n\")\n",
        "\n",
        "    # Felhasználói bemenet\n",
        "    user_movie = input(\"Adj meg egy filmcímet: \")\n",
        "\n",
        "    # Ajánlások\n",
        "    recommendations = recommend_movies(user_movie)\n",
        "    print(f\"\\nAjánlott filmek az '{user_movie}' című filmhez:\")\n",
        "    for i, movie in enumerate(recommendations, 1):\n",
        "        print(f\"{i}. {movie}\")"
      ],
      "metadata": {
        "colab": {
          "base_uri": "https://localhost:8080/"
        },
        "id": "Ys6w1P2wQ3px",
        "outputId": "b8ec8f2b-0989-44b2-8f0d-979b5763c029"
      },
      "execution_count": null,
      "outputs": [
        {
          "output_type": "stream",
          "name": "stdout",
          "text": [
            "\n",
            "Üdvözöllek a film ajánló rendszerben!\n",
            "Írd be egy film címét, és ajánlok hasonló filmeket.\n",
            "Elérhető filmek:\n",
            "['Red One', 'Venom: The Last Dance', 'Moana 2', 'Elevation', 'Mufasa: The Lion King', 'Absolution', 'Heretic', 'Sonic the Hedgehog 3', 'The Price of Money: A Largo Winch Adventure', 'The Wild Robot', 'Kraven the Hunter', 'Carry-On', 'Armor', 'Gladiator II', 'The Substance', 'Weekend in Taipei', 'Miraculous World, London: At the Edge of Time', 'That Christmas', 'Watchmen: Chapter II', 'Terrifier 3']\n",
            "\n",
            "\n"
          ]
        }
      ]
    }
  ]
}