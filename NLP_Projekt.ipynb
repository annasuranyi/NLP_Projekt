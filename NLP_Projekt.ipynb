{
  "nbformat": 4,
  "nbformat_minor": 0,
  "metadata": {
    "colab": {
      "provenance": [],
      "authorship_tag": "ABX9TyPWQHtElox3AwsXdsdsMYcB",
      "include_colab_link": true
    },
    "kernelspec": {
      "name": "python3",
      "display_name": "Python 3"
    },
    "language_info": {
      "name": "python"
    }
  },
  "cells": [
    {
      "cell_type": "markdown",
      "metadata": {
        "id": "view-in-github",
        "colab_type": "text"
      },
      "source": [
        "<a href=\"https://colab.research.google.com/github/annasuranyi/NLP_Projekt/blob/main/NLP_Projekt.ipynb\" target=\"_parent\"><img src=\"https://colab.research.google.com/assets/colab-badge.svg\" alt=\"Open In Colab\"/></a>"
      ]
    },
    {
      "cell_type": "markdown",
      "source": [
        "# **Szöveg alapú ajánlórendszer**"
      ],
      "metadata": {
        "id": "Ifx_SSwEK1Tk"
      }
    },
    {
      "cell_type": "markdown",
      "source": [
        "#1. Könyvtárak telepítése"
      ],
      "metadata": {
        "id": "F1jHvvIALF8b"
      }
    },
    {
      "cell_type": "code",
      "source": [
        "pip install requests pandas scikit-learn"
      ],
      "metadata": {
        "id": "0JbfkP1oKz01"
      },
      "execution_count": null,
      "outputs": []
    },
    {
      "cell_type": "markdown",
      "source": [
        "#2. Projekt kódja"
      ],
      "metadata": {
        "id": "g2ujr3S6Q4G3"
      }
    },
    {
      "cell_type": "markdown",
      "source": [
        "## Adatok létrehozása - TMDB API kulcs megadása"
      ],
      "metadata": {
        "id": "rIjbob15RipB"
      }
    },
    {
      "cell_type": "code",
      "source": [
        "import requests\n",
        "import pandas as pd\n",
        "from sklearn.feature_extraction.text import TfidfVectorizer\n",
        "from sklearn.metrics.pairwise import cosine_similarity\n",
        "\n",
        "API_KEY = \"6b5bdc65c4ca681df7bbe2158ba996ee\"  # Cseréld le a saját TMDB API kulcsodra\n",
        "BASE_URL = \"https://api.themoviedb.org/3\"\n",
        "\n",
        "def fetch_movies(api_key, num_movies=100):\n",
        "    \"\"\"\n",
        "    Lekéri a TMDB API-ból az aktuálisan népszerű filmeket több oldalon keresztül.\n",
        "\n",
        "    Paraméterek:\n",
        "        api_key (str): A TMDB API kulcs.\n",
        "        num_movies (int): A lekérendő filmek száma.\n",
        "\n",
        "    Return:\n",
        "        DataFrame: A filmek címét, leírását és műfajait tartalmazó DataFrame.\n",
        "    \"\"\"\n",
        "    movies = []\n",
        "    page = 1\n",
        "    while len(movies) < num_movies:\n",
        "        # Népszerű filmek lekérdezése oldalanként\n",
        "        url = f\"{BASE_URL}/movie/popular\"\n",
        "        params = {\"api_key\": api_key, \"language\": \"en-US\", \"page\": page}\n",
        "        response = requests.get(url, params=params)\n",
        "\n",
        "        if response.status_code != 200:\n",
        "            raise Exception(f\"API hiba: {response.status_code}, {response.text}\")\n",
        "\n",
        "        data = response.json()\n",
        "        for movie in data[\"results\"]:\n",
        "            if len(movies) >= num_movies:\n",
        "                break\n",
        "            title = movie[\"title\"]\n",
        "            description = movie.get(\"overview\", \"Nincs leírás\")\n",
        "            genres = fetch_genres(movie[\"genre_ids\"], api_key)\n",
        "            movies.append({\"title\": title, \"description\": description, \"genres\": genres})\n",
        "\n",
        "        page += 1  # Következő oldal betöltése\n",
        "\n",
        "    return pd.DataFrame(movies)\n",
        "\n",
        "def fetch_genres(genre_ids, api_key):\n",
        "    \"\"\"\n",
        "    Lekéri a műfajok nevét az azonosítók alapján.\n",
        "\n",
        "    Paraméterek:\n",
        "        genre_ids (list): A műfajok azonosítói.\n",
        "        api_key (str): A TMDB API kulcs.\n",
        "\n",
        "    Return:\n",
        "        str: A műfajok neve vesszővel elválasztva.\n",
        "    \"\"\"\n",
        "    # Műfajok listája (csak egyszer kellene letölteni, itt dinamikusan van megoldva)\n",
        "    genre_url = f\"{BASE_URL}/genre/movie/list\"\n",
        "    params = {\"api_key\": api_key, \"language\": \"en-US\"}\n",
        "    response = requests.get(genre_url, params=params)\n",
        "\n",
        "    if response.status_code != 200:\n",
        "        raise Exception(f\"API hiba a műfajok lekérdezésekor: {response.status_code}, {response.text}\")\n",
        "\n",
        "    genres_data = response.json()[\"genres\"]\n",
        "    genres_dict = {genre[\"id\"]: genre[\"name\"] for genre in genres_data}\n",
        "    return \", \".join([genres_dict[genre_id] for genre_id in genre_ids if genre_id in genres_dict])"
      ],
      "metadata": {
        "id": "tHm3qv_HRuLD"
      },
      "execution_count": null,
      "outputs": []
    },
    {
      "cell_type": "markdown",
      "source": [
        "## Adatok letöltése"
      ],
      "metadata": {
        "id": "JhCNPalD57XL"
      }
    },
    {
      "cell_type": "code",
      "source": [
        "print(\"Adatok letöltése a TMDB API-ból...\")\n",
        "df = fetch_movies(API_KEY, num_movies=200)\n",
        "print(\"Sikeresen letöltött adatok:\")\n",
        "print(df.head())"
      ],
      "metadata": {
        "id": "YCG9bt8q6B_d"
      },
      "execution_count": null,
      "outputs": []
    },
    {
      "cell_type": "markdown",
      "source": [
        "## TF-IDF vektorok létrehozása - A TF-IDF vektorok létrehozásához a TfidfVectorizer-t használjuk."
      ],
      "metadata": {
        "id": "xOJ9Rl24RufY"
      }
    },
    {
      "cell_type": "code",
      "source": [
        "vectorizer = TfidfVectorizer(stop_words='english')\n",
        "tfidf_matrix = vectorizer.fit_transform(df['description'])"
      ],
      "metadata": {
        "id": "ceFAumLERxGu"
      },
      "execution_count": null,
      "outputs": []
    },
    {
      "cell_type": "markdown",
      "source": [
        "## Koszinusz hasonlóság kiszámítása - A koszinusz hasonlóság mátrixot a cosine_similarity függvénnyel számoljuk ki."
      ],
      "metadata": {
        "id": "ile3Dc7uRxW0"
      }
    },
    {
      "cell_type": "code",
      "source": [
        "# A koszinusz hasonlóság mátrix számítása a TF-IDF vektorok alapján\n",
        "cosine_sim = cosine_similarity(tfidf_matrix, tfidf_matrix)"
      ],
      "metadata": {
        "id": "acG2NVmpR1W7"
      },
      "execution_count": null,
      "outputs": []
    },
    {
      "cell_type": "markdown",
      "source": [
        "## Ajánló funkció - Egy egyszerű ajánló funkció (recommend_movies) kiszámítja a legjobban hasonlító filmeket."
      ],
      "metadata": {
        "id": "UzsdvUpzR1h5"
      }
    },
    {
      "cell_type": "code",
      "source": [
        "def recommend_movies(title, cosine_sim=cosine_sim):\n",
        "    \"\"\"\n",
        "    Visszaadja a megadott filmhez legjobban hasonlító filmek címét.\n",
        "\n",
        "    Paraméterek:\n",
        "        title (str): A film címe, amelyhez hasonlót keresünk.\n",
        "        cosine_sim (ndarray): A koszinusz hasonlóság mátrix.\n",
        "\n",
        "    Return:\n",
        "        list: Az 5 legjobban hasonlító film címe.\n",
        "    \"\"\"\n",
        "    if title not in df['title'].values:\n",
        "        return [\"Nincs ilyen film az adatbázisban.\"]\n",
        "\n",
        "    # A film indexének megkeresése a DataFrame-ben\n",
        "    idx = df[df['title'] == title].index[0]\n",
        "\n",
        "    # Hasonlósági pontszámok lekérése a kiválasztott filmhez\n",
        "    sim_scores = list(enumerate(cosine_sim[idx]))\n",
        "\n",
        "    # Rendezés a hasonlóság szerint, csökkenő sorrendben\n",
        "    sim_scores = sorted(sim_scores, key=lambda x: x[1], reverse=True)\n",
        "\n",
        "    # A top 5 legjobban hasonlító film indexei (kivéve saját maga)\n",
        "    sim_scores = sim_scores[1:6]\n",
        "    movie_indices = [i[0] for i in sim_scores]\n",
        "\n",
        "    # Visszatérünk a filmek címeivel\n",
        "    return df['title'].iloc[movie_indices]"
      ],
      "metadata": {
        "id": "yJhfUq60R321"
      },
      "execution_count": null,
      "outputs": []
    },
    {
      "cell_type": "markdown",
      "source": [
        "## Felhasználói interakció - A felhasználó megadhat egy filmcímet, és a program visszaadja az 5 leginkább hasonló filmet."
      ],
      "metadata": {
        "id": "BomnDf2TR4Cg"
      }
    },
    {
      "cell_type": "code",
      "source": [
        "if __name__ == \"__main__\":\n",
        "    print(\"\\nÜdvözöllek a film ajánló rendszerben!\")\n",
        "    print(\"Írd be egy film címét, és ajánlok hasonló filmeket.\")\n",
        "    print(\"Elérhető filmek:\")\n",
        "    print(df['title'].tolist())\n",
        "    print(\"\\n\")\n",
        "\n",
        "    # Felhasználói bemenet\n",
        "    user_movie = input(\"Adj meg egy filmcímet: \")\n",
        "\n",
        "    # Ajánlások\n",
        "    recommendations = recommend_movies(user_movie)\n",
        "    print(f\"\\nAjánlott filmek az '{user_movie}' című filmhez:\")\n",
        "    for i, movie in enumerate(recommendations, 1):\n",
        "        print(f\"{i}. {movie}\")"
      ],
      "metadata": {
        "id": "Ys6w1P2wQ3px"
      },
      "execution_count": null,
      "outputs": []
    },
    {
      "cell_type": "markdown",
      "source": [
        "#3. Statisztika"
      ],
      "metadata": {
        "id": "InyB1hL57X4m"
      }
    },
    {
      "cell_type": "markdown",
      "source": [
        "## Filmek száma"
      ],
      "metadata": {
        "id": "9wtUlvU48OoP"
      }
    },
    {
      "cell_type": "code",
      "source": [
        "print(f\"Film adatbázis mérete: {len(df)} film\")"
      ],
      "metadata": {
        "colab": {
          "base_uri": "https://localhost:8080/"
        },
        "id": "9q52C_RN8Rtz",
        "outputId": "f3544820-0ffb-4128-8d50-fddc2060885c"
      },
      "execution_count": null,
      "outputs": [
        {
          "output_type": "stream",
          "name": "stdout",
          "text": [
            "Film adatbázis mérete: 200 film\n"
          ]
        }
      ]
    },
    {
      "cell_type": "markdown",
      "source": [
        "## Leírások hosszának eloszlása"
      ],
      "metadata": {
        "id": "1QNSW-Et8by0"
      }
    },
    {
      "cell_type": "code",
      "source": [
        "df['description_length'] = df['description'].apply(len)\n",
        "print(df['description_length'].describe())\n",
        "\n",
        "# Histogram a hosszok eloszlásáról\n",
        "import matplotlib.pyplot as plt\n",
        "df['description_length'].hist(bins=20)\n",
        "plt.title(\"Filmleírások hosszának eloszlása\")\n",
        "plt.xlabel(\"Hossz (karakterek száma)\")\n",
        "plt.ylabel(\"Gyakoriság\")\n",
        "plt.show()"
      ],
      "metadata": {
        "id": "SzOgpNeN8hUZ"
      },
      "execution_count": null,
      "outputs": []
    },
    {
      "cell_type": "markdown",
      "source": [
        "## Melyek a leggyakoribb műfajok az adathalmazban?"
      ],
      "metadata": {
        "id": "nvzF4pdT8kyo"
      }
    },
    {
      "cell_type": "code",
      "source": [
        "from collections import Counter\n",
        "\n",
        "genre_counts = Counter(\", \".join(df['genres']).split(\", \"))\n",
        "print(\"Műfajok gyakorisága:\")\n",
        "for genre, count in genre_counts.most_common():\n",
        "    print(f\"{genre}: {count}\")\n",
        "\n",
        "# Műfajok megjelenítése oszlopdiagramon\n",
        "plt.bar(genre_counts.keys(), genre_counts.values())\n",
        "plt.title(\"Műfajok gyakorisága\")\n",
        "plt.xlabel(\"Műfajok\")\n",
        "plt.ylabel(\"Előfordulások száma\")\n",
        "plt.xticks(rotation=45)\n",
        "plt.show()"
      ],
      "metadata": {
        "id": "Tmo125Ty8nne"
      },
      "execution_count": null,
      "outputs": []
    },
    {
      "cell_type": "markdown",
      "source": [
        "## Átlagos hasonlóság az ajánlásokban"
      ],
      "metadata": {
        "id": "FpkXcQjL86Ni"
      }
    },
    {
      "cell_type": "code",
      "source": [
        "def average_similarity(title, cosine_sim=cosine_sim):\n",
        "    idx = df[df['title'] == title].index[0]\n",
        "    sim_scores = list(enumerate(cosine_sim[idx]))\n",
        "    sim_scores = sorted(sim_scores, key=lambda x: x[1], reverse=True)\n",
        "    sim_scores = sim_scores[1:6]  # Top 5 ajánlás\n",
        "    avg_sim = sum([score[1] for score in sim_scores]) / len(sim_scores)\n",
        "    return avg_sim\n",
        "\n",
        "df['average_similarity'] = df['title'].apply(average_similarity)\n",
        "print(\"Átlagos hasonlóság az ajánlások között:\")\n",
        "print(df[['title', 'average_similarity']])"
      ],
      "metadata": {
        "id": "SST22MGY87IF"
      },
      "execution_count": null,
      "outputs": []
    },
    {
      "cell_type": "markdown",
      "source": [
        "## Hasonlósági mátrix vizualizációja"
      ],
      "metadata": {
        "id": "pE4xdcOU9Hox"
      }
    },
    {
      "cell_type": "code",
      "source": [
        "# prompt: 20 random filmhez készíts hasonlósági mátrix vizualizációt úgy, hogy látszódjanak a filmcímek, a hasonlósági mátrix a műfajokra vonatkozzon\n",
        "\n",
        "import matplotlib.pyplot as plt\n",
        "import seaborn as sns\n",
        "\n",
        "# Select the first 20 movies\n",
        "df_20 = df.head(20)\n",
        "\n",
        "# Create a TF-IDF vectorizer for genres\n",
        "genre_vectorizer = TfidfVectorizer()\n",
        "genre_tfidf_matrix = genre_vectorizer.fit_transform(df_20['genres'])\n",
        "\n",
        "# Calculate cosine similarity based on genres\n",
        "genre_cosine_sim = cosine_similarity(genre_tfidf_matrix, genre_tfidf_matrix)\n",
        "\n",
        "# Create the visualization\n",
        "plt.figure(figsize=(10, 8))\n",
        "sns.heatmap(genre_cosine_sim, annot=False, cmap=\"viridis\", xticklabels=df_20['title'], yticklabels=df_20['title'])\n",
        "plt.title(\"Genre Similarity Matrix for 20 Movies\")\n",
        "plt.xlabel(\"Movie Titles\")\n",
        "plt.ylabel(\"Movie Titles\")\n",
        "plt.xticks(rotation=90)\n",
        "plt.yticks(rotation=0)\n",
        "plt.show()"
      ],
      "metadata": {
        "id": "KKrjtmOxEK5a"
      },
      "execution_count": null,
      "outputs": []
    },
    {
      "cell_type": "markdown",
      "source": [
        "## Filmek UMAP vetítése (TF-IDF mátrix alapján)"
      ],
      "metadata": {
        "id": "gHxn1etUAAyR"
      }
    },
    {
      "cell_type": "code",
      "source": [
        "pip install umap-learn matplotlib plotly"
      ],
      "metadata": {
        "id": "bSkByg-y-CaX"
      },
      "execution_count": null,
      "outputs": []
    },
    {
      "cell_type": "code",
      "source": [
        "import umap\n",
        "import matplotlib.pyplot as plt\n",
        "import seaborn as sns\n",
        "\n",
        "# UMAP model létrehozása és dimenziócsökkentés 2D-re\n",
        "umap_model = umap.UMAP(n_neighbors=15, min_dist=0.1, n_components=2, random_state=42)\n",
        "umap_embedding = umap_model.fit_transform(tfidf_matrix.toarray())\n",
        "\n",
        "# 2D scatter plot a filmekhez\n",
        "plt.figure(figsize=(12, 8))\n",
        "sns.scatterplot(\n",
        "    x=umap_embedding[:, 0],\n",
        "    y=umap_embedding[:, 1],\n",
        "    hue=df['genres'],\n",
        "    palette=\"viridis\",\n",
        "    legend='full'\n",
        ")\n",
        "plt.title(\"Filmek UMAP vetítése (TF-IDF mátrix alapján)\", fontsize=16)\n",
        "plt.xlabel(\"UMAP 1. komponens\")\n",
        "plt.ylabel(\"UMAP 2. komponens\")\n",
        "plt.legend(bbox_to_anchor=(1.05, 1), loc='upper left')\n",
        "plt.show()"
      ],
      "metadata": {
        "id": "Mt5_Iaeh9wZ8"
      },
      "execution_count": null,
      "outputs": []
    },
    {
      "cell_type": "code",
      "source": [
        "# prompt: Írj egy olyan kódot, ami  megjeleníti a 10 legnépszerűbb műfajt wordclouddal\n",
        "\n",
        "from wordcloud import WordCloud\n",
        "import matplotlib.pyplot as plt\n",
        "\n",
        "# A genre_counts változó feltételezve van a korábbi kódból\n",
        "# Ha nincs definiálva, akkor definiáld a korábbi kódban lévő módon\n",
        "\n",
        "# Készíts egy WordCloud objektumot\n",
        "wordcloud = WordCloud(width=800, height=400, background_color='white').generate_from_frequencies(genre_counts)\n",
        "\n",
        "# Megjelenítés\n",
        "plt.figure(figsize=(10, 5))\n",
        "plt.imshow(wordcloud, interpolation='bilinear')\n",
        "plt.axis('off')\n",
        "plt.title(\"10 Legnépszerűbb műfaj\")\n",
        "plt.show()"
      ],
      "metadata": {
        "id": "eTwas7NTDc3o"
      },
      "execution_count": null,
      "outputs": []
    }
  ]
}